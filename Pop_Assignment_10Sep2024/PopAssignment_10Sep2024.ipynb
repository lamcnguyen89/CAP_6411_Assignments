{
 "cells": [
  {
   "cell_type": "markdown",
   "metadata": {},
   "source": [
    "# Resnet18 Retrieval\n",
    "\n",
    "Steps:\n",
    "\n",
    "1. Get 150 images (15 classes x 10 images per class) for gallery of 75 query images from this link:\n",
    "\n",
    "https://www.kaggle.com/datasets/shashankrapolu/human-action-recognition-dataset\n",
    "\n",
    "2. Go onto kaggle GPU. Feel free to use Collab Pro if you have one.\n",
    "\n",
    "3. Load the ResNet 18 model you have trained.\n",
    "Encode the images with the ResNet18 Model\n",
    "\n",
    "4. Perform retrieval with the 75 query images from the 150 gallery images\n",
    "6. Record the accuracy and speed\n",
    "7. Improve the speed (Your Idea)\n",
    "8. Record accuracy and speed again\n",
    "Compare 6 and 8\n",
    "Submit the code, a video, etc..."
   ]
  },
  {
   "cell_type": "code",
   "execution_count": null,
   "metadata": {},
   "outputs": [],
   "source": [
    "# Source: Assignment 05: Resnet18"
   ]
  },
  {
   "cell_type": "markdown",
   "metadata": {},
   "source": [
    "### Load the Model and the Pretrained checkpoint\n"
   ]
  },
  {
   "cell_type": "code",
   "execution_count": 5,
   "metadata": {},
   "outputs": [
    {
     "name": "stderr",
     "output_type": "stream",
     "text": [
      "/home/malneyugnfl/anaconda3/envs/deeplearning/lib/python3.12/site-packages/torchvision/models/_utils.py:208: UserWarning: The parameter 'pretrained' is deprecated since 0.13 and may be removed in the future, please use 'weights' instead.\n",
      "  warnings.warn(\n",
      "/home/malneyugnfl/anaconda3/envs/deeplearning/lib/python3.12/site-packages/torchvision/models/_utils.py:223: UserWarning: Arguments other than a weight enum or `None` for 'weights' are deprecated since 0.13 and may be removed in the future. The current behavior is equivalent to passing `weights=ResNet18_Weights.IMAGENET1K_V1`. You can also use `weights=ResNet18_Weights.DEFAULT` to get the most up-to-date weights.\n",
      "  warnings.warn(msg)\n",
      "/tmp/ipykernel_19163/2175515418.py:14: FutureWarning: You are using `torch.load` with `weights_only=False` (the current default value), which uses the default pickle module implicitly. It is possible to construct malicious pickle data which will execute arbitrary code during unpickling (See https://github.com/pytorch/pytorch/blob/main/SECURITY.md#untrusted-models for more details). In a future release, the default value for `weights_only` will be flipped to `True`. This limits the functions that could be executed during unpickling. Arbitrary objects will no longer be allowed to be loaded via this mode unless they are explicitly allowlisted by the user via `torch.serialization.add_safe_globals`. We recommend you start setting `weights_only=True` for any use case where you don't have full control of the loaded file. Please open an issue on GitHub for any issues related to this experimental feature.\n",
      "  model.load_state_dict(torch.load('Human_Action_Recognition.pth'))\n"
     ]
    }
   ],
   "source": [
    "import torch\n",
    "import torch.nn as nn\n",
    "from torchvision import models, transforms\n",
    "from PIL import Image\n",
    "import torchvision.datasets as datasets\n",
    "from torch.utils.data import DataLoader\n",
    "import os\n",
    "\n",
    "device = torch.device('cuda' if torch.cuda.is_available() else 'cpu')\n",
    "\n",
    "# Load the saved model\n",
    "model = models.resnet18(pretrained=True)\n",
    "model.fc = nn.Linear(model.fc.in_features, 1000)  # Adjust to match the original model's output units\n",
    "model.load_state_dict(torch.load('Human_Action_Recognition.pth'))\n",
    "model.eval()\n",
    "\n",
    "# Create a new model with the correct final layer\n",
    "new_model = models.resnet18(pretrained=True)\n",
    "new_model.fc = nn.Linear(new_model.fc.in_features, 2)  # Adjust to match the desired output units\n",
    "\n",
    "# Copy the weights and biases from the loaded model to the new model\n",
    "new_model.fc.weight.data = model.fc.weight.data[0:2]  # Copy only the first 2 output units\n",
    "new_model.fc.bias.data = model.fc.bias.data[0:2]\n",
    "\n",
    "new_model = new_model.to(device)"
   ]
  },
  {
   "cell_type": "code",
   "execution_count": 6,
   "metadata": {},
   "outputs": [
    {
     "name": "stdout",
     "output_type": "stream",
     "text": [
      "{'test': 150}\n"
     ]
    },
    {
     "data": {
      "text/plain": [
       "['calling',\n",
       " 'clapping',\n",
       " 'cycling',\n",
       " 'dancing',\n",
       " 'drinking',\n",
       " 'eating',\n",
       " 'fighting',\n",
       " 'hugging',\n",
       " 'laughing',\n",
       " 'listening_to_music',\n",
       " 'running',\n",
       " 'sitting',\n",
       " 'sleeping',\n",
       " 'texting',\n",
       " 'using_laptop']"
      ]
     },
     "execution_count": 6,
     "metadata": {},
     "output_type": "execute_result"
    }
   ],
   "source": [
    "# Load the query images\n",
    "\n",
    "# =======================================================#\n",
    "# 2. Define Data Transforms for Data Augmentation\n",
    "# =======================================================#\n",
    "\n",
    "data_transforms = {\n",
    "    \n",
    "    'test': transforms.Compose([\n",
    "    transforms.Resize(256),\n",
    "    transforms.CenterCrop(224),\n",
    "    transforms.ToTensor(),\n",
    "    transforms.Normalize([0.485, 0.456, 0.406], [0.229, 0.224, 0.225])\n",
    "])\n",
    "}\n",
    "\n",
    "# =======================================================#\n",
    "# 2. Define Data Directory\n",
    "# =======================================================#\n",
    "data_dir = 'data'\n",
    "\n",
    "# Create Dataloaders: Dataloaders are responsible for loading the data\n",
    "image_data = {x: datasets.ImageFolder(os.path.join(data_dir,x), data_transforms[x]) for x in ['test']}\n",
    "\n",
    "# Image Datasets\n",
    "dataloaders = {x: DataLoader(image_data[x], batch_size=4, shuffle=True, num_workers=4) for x in ['test'] } # num_workers is equal to the number of parallel processes to process the data\n",
    "dataset_sizes = {x: len(image_data[x]) for x in ['test']}\n",
    "print(dataset_sizes)\n",
    "\n",
    "class_names = image_data['test'].classes\n",
    "\n",
    "class_names"
   ]
  },
  {
   "cell_type": "code",
   "execution_count": null,
   "metadata": {},
   "outputs": [],
   "source": [
    "# Perform the inference on the test data and evaluate accuracy and speed\n",
    "\n",
    "for inputs, labels in dataloaders['test']:\n",
    "    inputs = inputs.to(device)\n",
    "    labels = labels.to(device)\n",
    "    \n",
    "    "
   ]
  }
 ],
 "metadata": {
  "kernelspec": {
   "display_name": "deeplearning",
   "language": "python",
   "name": "python3"
  },
  "language_info": {
   "codemirror_mode": {
    "name": "ipython",
    "version": 3
   },
   "file_extension": ".py",
   "mimetype": "text/x-python",
   "name": "python",
   "nbconvert_exporter": "python",
   "pygments_lexer": "ipython3",
   "version": "3.12.4"
  }
 },
 "nbformat": 4,
 "nbformat_minor": 2
}
