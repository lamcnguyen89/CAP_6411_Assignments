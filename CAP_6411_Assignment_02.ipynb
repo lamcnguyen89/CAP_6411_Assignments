{
  "nbformat": 4,
  "nbformat_minor": 0,
  "metadata": {
    "colab": {
      "provenance": [],
      "authorship_tag": "ABX9TyOHKsfvPZ36gwwRMEkbUpxB",
      "include_colab_link": true
    },
    "kernelspec": {
      "name": "python3",
      "display_name": "Python 3"
    },
    "language_info": {
      "name": "python"
    }
  },
  "cells": [
    {
      "cell_type": "markdown",
      "metadata": {
        "id": "view-in-github",
        "colab_type": "text"
      },
      "source": [
        "<a href=\"https://colab.research.google.com/github/lamcnguyen89/CAP_6411_Assignments/blob/main/CAP_6411_Assignment_02.ipynb\" target=\"_parent\"><img src=\"https://colab.research.google.com/assets/colab-badge.svg\" alt=\"Open In Colab\"/></a>"
      ]
    },
    {
      "cell_type": "code",
      "execution_count": null,
      "metadata": {
        "id": "PmTXfUFJw14o"
      },
      "outputs": [],
      "source": [
        "# Assignment 2: SDXL Turbo and SDXL\n",
        "\n",
        "\n",
        "\n",
        " # https://huggingface.co/datasets/Gustavosta/Stable-Diffusion-Prompts/viewer/default/test\n",
        " # Go to the \"People\" section in Webcourses\n",
        " # If you are the first student, for example, you will take the first 10 prompts from the above link, second student the 11-20th prompts in the list and so on\n",
        " # Run SDXL Turbo and SDXL on those prompts assigned to you\n",
        "  # Compare both models with two metrics:\n",
        "      # FID\n",
        "      # Speed\n",
        "\n",
        "  # Report Due Date: 27Aug2024\n",
        "\n",
        "\n",
        "\n",
        "\n"
      ]
    }
  ]
}