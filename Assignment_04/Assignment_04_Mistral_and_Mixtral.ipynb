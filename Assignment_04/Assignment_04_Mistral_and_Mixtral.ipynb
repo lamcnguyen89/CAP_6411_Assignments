{
  "nbformat": 4,
  "nbformat_minor": 0,
  "metadata": {
    "colab": {
      "provenance": [],
      "gpuType": "T4",
      "authorship_tag": "ABX9TyOjEVOcCuZVFVjlR3sDeXlG",
      "include_colab_link": true
    },
    "kernelspec": {
      "name": "python3",
      "display_name": "Python 3"
    },
    "language_info": {
      "name": "python"
    },
    "accelerator": "GPU"
  },
  "cells": [
    {
      "cell_type": "markdown",
      "metadata": {
        "id": "view-in-github",
        "colab_type": "text"
      },
      "source": [
        "<a href=\"https://colab.research.google.com/github/lamcnguyen89/CAP_6411_Assignments/blob/main/Assignment_04/Assignment_04_Mistral_and_Mixtral.ipynb\" target=\"_parent\"><img src=\"https://colab.research.google.com/assets/colab-badge.svg\" alt=\"Open In Colab\"/></a>"
      ]
    },
    {
      "cell_type": "code",
      "execution_count": null,
      "metadata": {
        "id": "vIFG6gBbcXSq"
      },
      "outputs": [],
      "source": []
    },
    {
      "cell_type": "markdown",
      "source": [
        "**Assignment 4: Mistral vs Mixtral Pipeline**\n",
        "\n",
        "\n",
        "\n",
        "*   Got to https://people.eecs.berkely.edu/~hendrycks/data.tar\n",
        "*   Colab should have both mixtral and mistral 7b pipelines\n",
        "*   Compare both in terms of speed and accuracy\n",
        "*   Bonus: 100 points for applying SMoE to other models\n",
        "*   Due 03Sep2024\n",
        "\n",
        "\n",
        "\n"
      ],
      "metadata": {
        "id": "epk6kUuPcsSe"
      }
    },
    {
      "cell_type": "markdown",
      "source": [
        "**Mistral-7b** \\\n",
        "Mistral-7B is one of the biggest and most advanced Large Language Models out there, trained on a massive dataset of text and code.\n",
        "\n",
        "Link: https://iamshobhitagarwal.medium.com/running-mistral-7b-large-language-model-on-google-colab-gpu-completely-free-of-cost-fc0a57279de9\n",
        "\n",
        "**Mixtral 8x7b** \\\n",
        "Mixtral 8x7b is a high-quality sparse mixture of experts (SMoE) model with open weights created by Mistral AI. It outperforms Llama 2 70B on most benchmarks and batches or beats GPT3.5 on most standard benchmarks.\n",
        "\n",
        "Link: https://www.kdnuggets.com/running-mixtral-8x7b-on-google-colab-for-free\n"
      ],
      "metadata": {
        "id": "zyAXeeKeeUg2"
      }
    },
    {
      "cell_type": "code",
      "source": [],
      "metadata": {
        "id": "Ori6_k4ijFWw"
      },
      "execution_count": null,
      "outputs": []
    }
  ]
}