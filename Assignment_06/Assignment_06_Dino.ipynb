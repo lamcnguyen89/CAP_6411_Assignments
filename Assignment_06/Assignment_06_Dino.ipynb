{
 "cells": [
  {
   "cell_type": "markdown",
   "metadata": {},
   "source": [
    "# Assignment_06: Dino\n",
    "\n",
    "Train DinoV2 on Human Action Recognition\n",
    "\n",
    "* Same train/test split\n",
    "* Use ViT-S\n",
    "* 8 patches\n",
    "\n",
    "Evaluation\n",
    "\n",
    "* Test Set Classification (Linear)\n",
    "* Speed: Turn OFF Flash Attention vs ON (both training and test speed)"
   ]
  },
  {
   "cell_type": "code",
   "execution_count": null,
   "metadata": {},
   "outputs": [],
   "source": []
  }
 ],
 "metadata": {
  "language_info": {
   "name": "python"
  }
 },
 "nbformat": 4,
 "nbformat_minor": 2
}
